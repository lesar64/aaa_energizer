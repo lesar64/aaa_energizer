{
 "cells": [
  {
   "cell_type": "code",
   "execution_count": 21,
   "metadata": {
    "collapsed": true
   },
   "outputs": [],
   "source": [
    "from energizer.io import read_all_files\n",
    "import numpy as np"
   ]
  },
  {
   "cell_type": "code",
   "execution_count": 14,
   "metadata": {
    "pycharm": {
     "name": "#%%\n"
    }
   },
   "outputs": [],
   "source": [
    "df = read_all_files(sample=True, weather=False)"
   ]
  },
  {
   "cell_type": "code",
   "execution_count": 15,
   "metadata": {
    "pycharm": {
     "name": "#%%\n"
    }
   },
   "outputs": [
    {
     "name": "stdout",
     "output_type": "stream",
     "text": [
      "<class 'pandas.core.frame.DataFrame'>\n",
      "Int64Index: 100000 entries, 26064674 to 6198462\n",
      "Data columns (total 23 columns):\n",
      " #   Column                      Non-Null Count   Dtype         \n",
      "---  ------                      --------------   -----         \n",
      " 0   trip_id                     100000 non-null  object        \n",
      " 1   taxi_id                     100000 non-null  object        \n",
      " 2   trip_start_timestamp        100000 non-null  datetime64[ns]\n",
      " 3   trip_end_timestamp          100000 non-null  datetime64[ns]\n",
      " 4   trip_seconds                100000 non-null  float64       \n",
      " 5   trip_miles                  100000 non-null  float64       \n",
      " 6   fare                        100000 non-null  float64       \n",
      " 7   tips                        100000 non-null  float64       \n",
      " 8   tolls                       97881 non-null   float64       \n",
      " 9   extras                      100000 non-null  float64       \n",
      " 10  trip_total                  100000 non-null  float64       \n",
      " 11  payment_type                100000 non-null  object        \n",
      " 12  pickup_census_tract         62293 non-null   float64       \n",
      " 13  pickup_community_area       86333 non-null   float64       \n",
      " 14  pickup_centroid_latitude    86333 non-null   float64       \n",
      " 15  pickup_centroid_longitude   86333 non-null   float64       \n",
      " 16  pickup_centroid_location    86333 non-null   object        \n",
      " 17  dropoff_community_area      82739 non-null   float64       \n",
      " 18  dropoff_centroid_latitude   82894 non-null   float64       \n",
      " 19  dropoff_centroid_longitude  82894 non-null   float64       \n",
      " 20  dropoff_centroid_location   82894 non-null   object        \n",
      " 21  dropoff_census_tract        60178 non-null   float64       \n",
      " 22  company                     100000 non-null  object        \n",
      "dtypes: datetime64[ns](2), float64(15), object(6)\n",
      "memory usage: 18.3+ MB\n"
     ]
    }
   ],
   "source": [
    "df = df.sample(100000)\n",
    "df.info()"
   ]
  },
  {
   "cell_type": "code",
   "execution_count": 16,
   "metadata": {
    "pycharm": {
     "name": "#%%\n"
    }
   },
   "outputs": [
    {
     "data": {
      "text/html": [
       "<div>\n",
       "<style scoped>\n",
       "    .dataframe tbody tr th:only-of-type {\n",
       "        vertical-align: middle;\n",
       "    }\n",
       "\n",
       "    .dataframe tbody tr th {\n",
       "        vertical-align: top;\n",
       "    }\n",
       "\n",
       "    .dataframe thead th {\n",
       "        text-align: right;\n",
       "    }\n",
       "</style>\n",
       "<table border=\"1\" class=\"dataframe\">\n",
       "  <thead>\n",
       "    <tr style=\"text-align: right;\">\n",
       "      <th></th>\n",
       "      <th>trip_id</th>\n",
       "      <th>taxi_id</th>\n",
       "      <th>trip_start_timestamp</th>\n",
       "      <th>trip_end_timestamp</th>\n",
       "      <th>trip_seconds</th>\n",
       "      <th>trip_miles</th>\n",
       "      <th>fare</th>\n",
       "      <th>tips</th>\n",
       "      <th>tolls</th>\n",
       "      <th>extras</th>\n",
       "      <th>...</th>\n",
       "      <th>pickup_community_area</th>\n",
       "      <th>pickup_centroid_latitude</th>\n",
       "      <th>pickup_centroid_longitude</th>\n",
       "      <th>pickup_centroid_location</th>\n",
       "      <th>dropoff_community_area</th>\n",
       "      <th>dropoff_centroid_latitude</th>\n",
       "      <th>dropoff_centroid_longitude</th>\n",
       "      <th>dropoff_centroid_location</th>\n",
       "      <th>dropoff_census_tract</th>\n",
       "      <th>company</th>\n",
       "    </tr>\n",
       "  </thead>\n",
       "  <tbody>\n",
       "    <tr>\n",
       "      <th>0</th>\n",
       "      <td>88b0622c5d58238566669d778f225831bac05256</td>\n",
       "      <td>96fc6132bcd871b10fe587be76a4a4caa31c774642e05d...</td>\n",
       "      <td>2013-12-16 16:00:00</td>\n",
       "      <td>2013-12-16 16:00:00</td>\n",
       "      <td>360.0</td>\n",
       "      <td>1.20</td>\n",
       "      <td>6.05</td>\n",
       "      <td>0.0</td>\n",
       "      <td>0.0</td>\n",
       "      <td>0.0</td>\n",
       "      <td>...</td>\n",
       "      <td>8.0</td>\n",
       "      <td>41.895033</td>\n",
       "      <td>-87.619711</td>\n",
       "      <td>{'coordinates': [-87.6197106717, 41.8950334495...</td>\n",
       "      <td>8.0</td>\n",
       "      <td>41.907520</td>\n",
       "      <td>-87.626659</td>\n",
       "      <td>{'coordinates': [-87.6266589003, 41.9075200747...</td>\n",
       "      <td>1.703108e+10</td>\n",
       "      <td>Choice Taxi Association</td>\n",
       "    </tr>\n",
       "    <tr>\n",
       "      <th>1</th>\n",
       "      <td>138c89f7e9ffdf6c07728c2c72495a21573912ce</td>\n",
       "      <td>6387cede3d04d6fc99bcb37707880b3c8043f9e7284bfc...</td>\n",
       "      <td>2013-08-01 07:45:00</td>\n",
       "      <td>2013-08-01 08:30:00</td>\n",
       "      <td>2220.0</td>\n",
       "      <td>1.32</td>\n",
       "      <td>29.45</td>\n",
       "      <td>0.0</td>\n",
       "      <td>0.0</td>\n",
       "      <td>2.0</td>\n",
       "      <td>...</td>\n",
       "      <td>5.0</td>\n",
       "      <td>41.947792</td>\n",
       "      <td>-87.683835</td>\n",
       "      <td>{'coordinates': [-87.6838349425, 41.9477915865...</td>\n",
       "      <td>76.0</td>\n",
       "      <td>41.980264</td>\n",
       "      <td>-87.913625</td>\n",
       "      <td>{'coordinates': [-87.913624596, 41.9802643146]...</td>\n",
       "      <td>NaN</td>\n",
       "      <td>None</td>\n",
       "    </tr>\n",
       "    <tr>\n",
       "      <th>2</th>\n",
       "      <td>1d4496b86094d3dade4eb0d4438ac444dd4bfd16</td>\n",
       "      <td>1aa7696cf1ac4c5d9e302177fdb918829d2ddcd9d420a3...</td>\n",
       "      <td>2013-11-13 15:15:00</td>\n",
       "      <td>2013-11-13 15:15:00</td>\n",
       "      <td>587.0</td>\n",
       "      <td>2.00</td>\n",
       "      <td>8.45</td>\n",
       "      <td>0.0</td>\n",
       "      <td>NaN</td>\n",
       "      <td>0.0</td>\n",
       "      <td>...</td>\n",
       "      <td>28.0</td>\n",
       "      <td>41.870415</td>\n",
       "      <td>-87.675086</td>\n",
       "      <td>{'coordinates': [-87.6750856208, 41.8704150003...</td>\n",
       "      <td>28.0</td>\n",
       "      <td>41.879255</td>\n",
       "      <td>-87.642649</td>\n",
       "      <td>{'coordinates': [-87.642648998, 41.8792550844]...</td>\n",
       "      <td>1.703128e+10</td>\n",
       "      <td>Flash Cab</td>\n",
       "    </tr>\n",
       "    <tr>\n",
       "      <th>3</th>\n",
       "      <td>9fadc7cdb5d4a39134d57ee483876ff16c53bb63</td>\n",
       "      <td>e54b5e0b458fbbfdbd31472d001c5a9fe79aec496e24b4...</td>\n",
       "      <td>2013-09-08 19:30:00</td>\n",
       "      <td>2013-09-08 19:45:00</td>\n",
       "      <td>420.0</td>\n",
       "      <td>2.10</td>\n",
       "      <td>7.65</td>\n",
       "      <td>0.0</td>\n",
       "      <td>0.0</td>\n",
       "      <td>1.0</td>\n",
       "      <td>...</td>\n",
       "      <td>22.0</td>\n",
       "      <td>41.922761</td>\n",
       "      <td>-87.699155</td>\n",
       "      <td>{'coordinates': [-87.69915534320002, 41.922760...</td>\n",
       "      <td>7.0</td>\n",
       "      <td>41.922686</td>\n",
       "      <td>-87.649489</td>\n",
       "      <td>{'coordinates': [-87.6494887289, 41.9226862843...</td>\n",
       "      <td>NaN</td>\n",
       "      <td>None</td>\n",
       "    </tr>\n",
       "    <tr>\n",
       "      <th>4</th>\n",
       "      <td>3b410015b5ab0139ba31d2bafd993ddc051c3530</td>\n",
       "      <td>77a35416c518c6ce325ccecaded115da1fe0b63881fab8...</td>\n",
       "      <td>2013-01-02 18:30:00</td>\n",
       "      <td>2013-01-02 18:45:00</td>\n",
       "      <td>1500.0</td>\n",
       "      <td>0.20</td>\n",
       "      <td>14.85</td>\n",
       "      <td>0.0</td>\n",
       "      <td>0.0</td>\n",
       "      <td>0.0</td>\n",
       "      <td>...</td>\n",
       "      <td>8.0</td>\n",
       "      <td>41.899602</td>\n",
       "      <td>-87.633308</td>\n",
       "      <td>{'coordinates': [-87.6333080367, 41.899602111]...</td>\n",
       "      <td>6.0</td>\n",
       "      <td>41.944227</td>\n",
       "      <td>-87.655998</td>\n",
       "      <td>{'coordinates': [-87.6559981815, 41.9442266014...</td>\n",
       "      <td>NaN</td>\n",
       "      <td>Blue Ribbon Taxi Association Inc.</td>\n",
       "    </tr>\n",
       "  </tbody>\n",
       "</table>\n",
       "<p>5 rows × 23 columns</p>\n",
       "</div>"
      ],
      "text/plain": [
       "                                    trip_id  \\\n",
       "0  88b0622c5d58238566669d778f225831bac05256   \n",
       "1  138c89f7e9ffdf6c07728c2c72495a21573912ce   \n",
       "2  1d4496b86094d3dade4eb0d4438ac444dd4bfd16   \n",
       "3  9fadc7cdb5d4a39134d57ee483876ff16c53bb63   \n",
       "4  3b410015b5ab0139ba31d2bafd993ddc051c3530   \n",
       "\n",
       "                                             taxi_id trip_start_timestamp  \\\n",
       "0  96fc6132bcd871b10fe587be76a4a4caa31c774642e05d...  2013-12-16 16:00:00   \n",
       "1  6387cede3d04d6fc99bcb37707880b3c8043f9e7284bfc...  2013-08-01 07:45:00   \n",
       "2  1aa7696cf1ac4c5d9e302177fdb918829d2ddcd9d420a3...  2013-11-13 15:15:00   \n",
       "3  e54b5e0b458fbbfdbd31472d001c5a9fe79aec496e24b4...  2013-09-08 19:30:00   \n",
       "4  77a35416c518c6ce325ccecaded115da1fe0b63881fab8...  2013-01-02 18:30:00   \n",
       "\n",
       "   trip_end_timestamp  trip_seconds  trip_miles   fare  tips  tolls  extras  \\\n",
       "0 2013-12-16 16:00:00         360.0        1.20   6.05   0.0    0.0     0.0   \n",
       "1 2013-08-01 08:30:00        2220.0        1.32  29.45   0.0    0.0     2.0   \n",
       "2 2013-11-13 15:15:00         587.0        2.00   8.45   0.0    NaN     0.0   \n",
       "3 2013-09-08 19:45:00         420.0        2.10   7.65   0.0    0.0     1.0   \n",
       "4 2013-01-02 18:45:00        1500.0        0.20  14.85   0.0    0.0     0.0   \n",
       "\n",
       "   ...  pickup_community_area pickup_centroid_latitude  \\\n",
       "0  ...                    8.0                41.895033   \n",
       "1  ...                    5.0                41.947792   \n",
       "2  ...                   28.0                41.870415   \n",
       "3  ...                   22.0                41.922761   \n",
       "4  ...                    8.0                41.899602   \n",
       "\n",
       "   pickup_centroid_longitude  \\\n",
       "0                 -87.619711   \n",
       "1                 -87.683835   \n",
       "2                 -87.675086   \n",
       "3                 -87.699155   \n",
       "4                 -87.633308   \n",
       "\n",
       "                            pickup_centroid_location  dropoff_community_area  \\\n",
       "0  {'coordinates': [-87.6197106717, 41.8950334495...                     8.0   \n",
       "1  {'coordinates': [-87.6838349425, 41.9477915865...                    76.0   \n",
       "2  {'coordinates': [-87.6750856208, 41.8704150003...                    28.0   \n",
       "3  {'coordinates': [-87.69915534320002, 41.922760...                     7.0   \n",
       "4  {'coordinates': [-87.6333080367, 41.899602111]...                     6.0   \n",
       "\n",
       "   dropoff_centroid_latitude dropoff_centroid_longitude  \\\n",
       "0                  41.907520                 -87.626659   \n",
       "1                  41.980264                 -87.913625   \n",
       "2                  41.879255                 -87.642649   \n",
       "3                  41.922686                 -87.649489   \n",
       "4                  41.944227                 -87.655998   \n",
       "\n",
       "                           dropoff_centroid_location  dropoff_census_tract  \\\n",
       "0  {'coordinates': [-87.6266589003, 41.9075200747...          1.703108e+10   \n",
       "1  {'coordinates': [-87.913624596, 41.9802643146]...                   NaN   \n",
       "2  {'coordinates': [-87.642648998, 41.8792550844]...          1.703128e+10   \n",
       "3  {'coordinates': [-87.6494887289, 41.9226862843...                   NaN   \n",
       "4  {'coordinates': [-87.6559981815, 41.9442266014...                   NaN   \n",
       "\n",
       "                             company  \n",
       "0            Choice Taxi Association  \n",
       "1                               None  \n",
       "2                          Flash Cab  \n",
       "3                               None  \n",
       "4  Blue Ribbon Taxi Association Inc.  \n",
       "\n",
       "[5 rows x 23 columns]"
      ]
     },
     "execution_count": 16,
     "metadata": {},
     "output_type": "execute_result"
    }
   ],
   "source": [
    "df.reset_index(inplace=True, drop=True)\n",
    "df.head()"
   ]
  },
  {
   "cell_type": "markdown",
   "metadata": {
    "pycharm": {
     "name": "#%% md\n"
    }
   },
   "source": [
    "# Replace trip id"
   ]
  },
  {
   "cell_type": "code",
   "execution_count": null,
   "metadata": {
    "pycharm": {
     "name": "#%%\n"
    }
   },
   "outputs": [],
   "source": [
    "df.trip_id = df.index\n",
    "df.info()"
   ]
  },
  {
   "cell_type": "markdown",
   "metadata": {
    "pycharm": {
     "name": "#%% md\n"
    }
   },
   "source": [
    "# Replace taxi_id"
   ]
  },
  {
   "cell_type": "code",
   "execution_count": null,
   "metadata": {
    "pycharm": {
     "name": "#%%\n"
    }
   },
   "outputs": [],
   "source": [
    "taxi_id = df.taxi_id.unique()\n",
    "df.taxi_id = df.taxi_id.apply(lambda x: np.where(taxi_id == x)[0][0])\n",
    "df.head()"
   ]
  },
  {
   "cell_type": "code",
   "execution_count": 32,
   "metadata": {
    "pycharm": {
     "name": "#%%\n"
    }
   },
   "outputs": [
    {
     "name": "stdout",
     "output_type": "stream",
     "text": [
      "<class 'pandas.core.frame.DataFrame'>\n",
      "RangeIndex: 100000 entries, 0 to 99999\n",
      "Data columns (total 23 columns):\n",
      " #   Column                      Non-Null Count   Dtype         \n",
      "---  ------                      --------------   -----         \n",
      " 0   trip_id                     100000 non-null  int64         \n",
      " 1   taxi_id                     100000 non-null  int64         \n",
      " 2   trip_start_timestamp        100000 non-null  datetime64[ns]\n",
      " 3   trip_end_timestamp          100000 non-null  datetime64[ns]\n",
      " 4   trip_seconds                100000 non-null  float64       \n",
      " 5   trip_miles                  100000 non-null  float64       \n",
      " 6   fare                        100000 non-null  float64       \n",
      " 7   tips                        100000 non-null  float64       \n",
      " 8   tolls                       97881 non-null   float64       \n",
      " 9   extras                      100000 non-null  float64       \n",
      " 10  trip_total                  100000 non-null  float64       \n",
      " 11  payment_type                100000 non-null  object        \n",
      " 12  pickup_census_tract         62293 non-null   float64       \n",
      " 13  pickup_community_area       86333 non-null   float64       \n",
      " 14  pickup_centroid_latitude    86333 non-null   float64       \n",
      " 15  pickup_centroid_longitude   86333 non-null   float64       \n",
      " 16  pickup_centroid_location    86333 non-null   object        \n",
      " 17  dropoff_community_area      82739 non-null   float64       \n",
      " 18  dropoff_centroid_latitude   82894 non-null   float64       \n",
      " 19  dropoff_centroid_longitude  82894 non-null   float64       \n",
      " 20  dropoff_centroid_location   82894 non-null   object        \n",
      " 21  dropoff_census_tract        60178 non-null   float64       \n",
      " 22  company                     100000 non-null  object        \n",
      "dtypes: datetime64[ns](2), float64(15), int64(2), object(4)\n",
      "memory usage: 17.5+ MB\n"
     ]
    }
   ],
   "source": [
    "df.info()"
   ]
  }
 ],
 "metadata": {
  "kernelspec": {
   "display_name": "Python 3",
   "language": "python",
   "name": "python3"
  },
  "language_info": {
   "codemirror_mode": {
    "name": "ipython",
    "version": 3
   },
   "file_extension": ".py",
   "mimetype": "text/x-python",
   "name": "python",
   "nbconvert_exporter": "python",
   "pygments_lexer": "ipython3",
   "version": "3.9.4"
  },
  "toc": {
   "base_numbering": 1,
   "nav_menu": {},
   "number_sections": true,
   "sideBar": true,
   "skip_h1_title": false,
   "title_cell": "Table of Contents",
   "title_sidebar": "Contents",
   "toc_cell": false,
   "toc_position": {},
   "toc_section_display": true,
   "toc_window_display": false
  },
  "varInspector": {
   "cols": {
    "lenName": 16,
    "lenType": 16,
    "lenVar": 40
   },
   "kernels_config": {
    "python": {
     "delete_cmd_postfix": "",
     "delete_cmd_prefix": "del ",
     "library": "var_list.py",
     "varRefreshCmd": "print(var_dic_list())"
    },
    "r": {
     "delete_cmd_postfix": ") ",
     "delete_cmd_prefix": "rm(",
     "library": "var_list.r",
     "varRefreshCmd": "cat(var_dic_list()) "
    }
   },
   "types_to_exclude": [
    "module",
    "function",
    "builtin_function_or_method",
    "instance",
    "_Feature"
   ],
   "window_display": false
  }
 },
 "nbformat": 4,
 "nbformat_minor": 1
}
