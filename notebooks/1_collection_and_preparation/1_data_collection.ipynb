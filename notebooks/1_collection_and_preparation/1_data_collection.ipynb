{
 "cells": [
  {
   "cell_type": "code",
   "execution_count": null,
   "id": "8914234e",
   "metadata": {},
   "outputs": [],
   "source": [
    "import pandas as pd\n",
    "import calendar\n",
    "from sodapy import Socrata\n",
    "from datetime import datetime"
   ]
  },
  {
   "cell_type": "code",
   "execution_count": null,
   "id": "d1901c73",
   "metadata": {},
   "outputs": [],
   "source": [
    "def monthly_data():\n",
    "    \n",
    "    year = [\n",
    "        \"trip_start_timestamp between '2013-01-01T00:00:00.000' and '2013-02-01T00:00:00.000'\",\n",
    "        \"trip_start_timestamp between '2013-02-01T00:00:00.000' and '2013-03-01T00:00:00.000'\",\n",
    "        \"trip_start_timestamp between '2013-03-01T00:00:00.000' and '2013-04-01T00:00:00.000'\",\n",
    "        \"trip_start_timestamp between '2013-04-01T00:00:00.000' and '2013-05-01T00:00:00.000'\",\n",
    "        \"trip_start_timestamp between '2013-05-01T00:00:00.000' and '2013-06-01T00:00:00.000'\",\n",
    "        \"trip_start_timestamp between '2013-06-01T00:00:00.000' and '2013-07-01T00:00:00.000'\",\n",
    "        \"trip_start_timestamp between '2013-07-01T00:00:00.000' and '2013-08-01T00:00:00.000'\",\n",
    "        \"trip_start_timestamp between '2013-08-01T00:00:00.000' and '2013-09-01T00:00:00.000'\",\n",
    "        \"trip_start_timestamp between '2013-09-01T00:00:00.000' and '2013-10-01T00:00:00.000'\",\n",
    "        \"trip_start_timestamp between '2013-10-01T00:00:00.000' and '2013-11-01T00:00:00.000'\",\n",
    "        \"trip_start_timestamp between '2013-11-01T00:00:00.000' and '2013-12-01T00:00:00.000'\",\n",
    "        \"trip_start_timestamp between '2013-12-01T00:00:00.000' and '2014-01-01T00:00:00.000'\"\n",
    "    ]\n",
    "    \n",
    "    # Unauthenticated client only works with public data sets. Note 'None'\n",
    "    # in place of application token, and no username or password:\n",
    "    client = Socrata(\"data.cityofchicago.org\", None, timeout=120)\n",
    "    \n",
    "    # Example authenticated client (needed for non-public datasets):\n",
    "    # client = Socrata(data.cityofchicago.org,\n",
    "    #                  MyAppToken,\n",
    "    #                  userame=\"user@example.com\",\n",
    "    #                  password=\"AFakePassword\")\n",
    "    \n",
    "    # First 1000 results, returned as JSON from API / converted to Python list of\n",
    "    # dictionaries by sodapy.\n",
    "\n",
    "    # limit=28.000.000, total number of instances for year 2013\n",
    "    # where=\"trip_start_timestamp < '2014-01-01T00:00:00.000'\"\n",
    "    for i in range(1, 13):\n",
    "        print(datetime.now().strftime('%Y-%m-%d %H:%M:%S'), \"Starting data collection for month\", calendar.month_name[i])\n",
    "        \n",
    "        results = client.get(\"wrvz-psew\",\n",
    "                     limit=28000000,\n",
    "                     where=year[i-1]\n",
    "                    )\n",
    "\n",
    "        # Convert to pandas DataFrame\n",
    "        results_df = pd.DataFrame.from_records(results)\n",
    "        \n",
    "        results_df.to_parquet('../data/input/' + str(i).zfill(2) + '.parquet')\n",
    "        \n",
    "        print(datetime.now().strftime('%Y-%m-%d %H:%M:%S'), \"Saved\", len(results_df), \"for month\", calendar.month_name[i])"
   ]
  },
  {
   "cell_type": "code",
   "execution_count": null,
   "id": "9db93554",
   "metadata": {},
   "outputs": [],
   "source": [
    "monthly_data()"
   ]
  }
 ],
 "metadata": {
  "kernelspec": {
   "display_name": "Python 3",
   "language": "python",
   "name": "python3"
  },
  "language_info": {
   "codemirror_mode": {
    "name": "ipython",
    "version": 3
   },
   "file_extension": ".py",
   "mimetype": "text/x-python",
   "name": "python",
   "nbconvert_exporter": "python",
   "pygments_lexer": "ipython3",
   "version": "3.9.4"
  },
  "toc": {
   "base_numbering": 1,
   "nav_menu": {},
   "number_sections": true,
   "sideBar": true,
   "skip_h1_title": false,
   "title_cell": "Table of Contents",
   "title_sidebar": "Contents",
   "toc_cell": false,
   "toc_position": {},
   "toc_section_display": true,
   "toc_window_display": false
  },
  "varInspector": {
   "cols": {
    "lenName": 16,
    "lenType": 16,
    "lenVar": 40
   },
   "kernels_config": {
    "python": {
     "delete_cmd_postfix": "",
     "delete_cmd_prefix": "del ",
     "library": "var_list.py",
     "varRefreshCmd": "print(var_dic_list())"
    },
    "r": {
     "delete_cmd_postfix": ") ",
     "delete_cmd_prefix": "rm(",
     "library": "var_list.r",
     "varRefreshCmd": "cat(var_dic_list()) "
    }
   },
   "types_to_exclude": [
    "module",
    "function",
    "builtin_function_or_method",
    "instance",
    "_Feature"
   ],
   "window_display": false
  }
 },
 "nbformat": 4,
 "nbformat_minor": 5
}
