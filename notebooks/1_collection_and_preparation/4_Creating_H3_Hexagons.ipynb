{
 "cells": [
  {
   "cell_type": "code",
   "execution_count": 2,
   "id": "98f6d916",
   "metadata": {},
   "outputs": [
    {
     "name": "stderr",
     "output_type": "stream",
     "text": [
      "<ipython-input-2-4c9deee30cec>:21: DeprecationWarning: `set_matplotlib_formats` is deprecated since IPython 7.23, directly use `matplotlib_inline.backend_inline.set_matplotlib_formats()`\n",
      "  set_matplotlib_formats('retina')\n"
     ]
    }
   ],
   "source": [
    "import pandas as pd\n",
    "import numpy as np\n",
    "import matplotlib.pyplot as plt\n",
    "from datetime import timedelta, datetime\n",
    "from IPython.display import set_matplotlib_formats\n",
    "from pathlib import Path\n",
    "import energizer\n",
    "\n",
    "import h3\n",
    "import shapely\n",
    "import geopandas as gpd\n",
    "import contextily as ctx\n",
    "from shapely.geometry import shapely\n",
    "import json\n",
    "from h3 import h3\n",
    "from shapely.geometry import shape\n",
    "import folium\n",
    "from tqdm import tqdm\n",
    "\n",
    "pd.set_option('display.max_columns', None)\n",
    "set_matplotlib_formats('retina')\n",
    "%matplotlib inline"
   ]
  },
  {
   "cell_type": "markdown",
   "id": "2738075f",
   "metadata": {},
   "source": [
    "# Data import"
   ]
  },
  {
   "cell_type": "markdown",
   "id": "2ac96a56",
   "metadata": {},
   "source": [
    "Import of the original data."
   ]
  },
  {
   "cell_type": "code",
   "execution_count": 3,
   "id": "de72bb7b",
   "metadata": {},
   "outputs": [
    {
     "name": "stdout",
     "output_type": "stream",
     "text": [
      "read in trip_data\n",
      "cleaned trip_data\n"
     ]
    },
    {
     "data": {
      "text/html": [
       "<div>\n",
       "<style scoped>\n",
       "    .dataframe tbody tr th:only-of-type {\n",
       "        vertical-align: middle;\n",
       "    }\n",
       "\n",
       "    .dataframe tbody tr th {\n",
       "        vertical-align: top;\n",
       "    }\n",
       "\n",
       "    .dataframe thead th {\n",
       "        text-align: right;\n",
       "    }\n",
       "</style>\n",
       "<table border=\"1\" class=\"dataframe\">\n",
       "  <thead>\n",
       "    <tr style=\"text-align: right;\">\n",
       "      <th></th>\n",
       "      <th>statefp10</th>\n",
       "      <th>name10</th>\n",
       "      <th>commarea_n</th>\n",
       "      <th>namelsad10</th>\n",
       "      <th>commarea</th>\n",
       "      <th>geoid10</th>\n",
       "      <th>notes</th>\n",
       "      <th>tractce10</th>\n",
       "      <th>countyfp10</th>\n",
       "      <th>geometry</th>\n",
       "    </tr>\n",
       "  </thead>\n",
       "  <tbody>\n",
       "    <tr>\n",
       "      <th>0</th>\n",
       "      <td>17</td>\n",
       "      <td>8424</td>\n",
       "      <td>44</td>\n",
       "      <td>Census Tract 8424</td>\n",
       "      <td>44</td>\n",
       "      <td>17031842400</td>\n",
       "      <td></td>\n",
       "      <td>842400</td>\n",
       "      <td>031</td>\n",
       "      <td>MULTIPOLYGON (((-87.62405 41.73022, -87.62405 ...</td>\n",
       "    </tr>\n",
       "    <tr>\n",
       "      <th>1</th>\n",
       "      <td>17</td>\n",
       "      <td>8403</td>\n",
       "      <td>59</td>\n",
       "      <td>Census Tract 8403</td>\n",
       "      <td>59</td>\n",
       "      <td>17031840300</td>\n",
       "      <td></td>\n",
       "      <td>840300</td>\n",
       "      <td>031</td>\n",
       "      <td>MULTIPOLYGON (((-87.68608 41.82296, -87.68607 ...</td>\n",
       "    </tr>\n",
       "    <tr>\n",
       "      <th>2</th>\n",
       "      <td>17</td>\n",
       "      <td>8411</td>\n",
       "      <td>34</td>\n",
       "      <td>Census Tract 8411</td>\n",
       "      <td>34</td>\n",
       "      <td>17031841100</td>\n",
       "      <td></td>\n",
       "      <td>841100</td>\n",
       "      <td>031</td>\n",
       "      <td>MULTIPOLYGON (((-87.62935 41.85280, -87.62934 ...</td>\n",
       "    </tr>\n",
       "    <tr>\n",
       "      <th>3</th>\n",
       "      <td>17</td>\n",
       "      <td>8412</td>\n",
       "      <td>31</td>\n",
       "      <td>Census Tract 8412</td>\n",
       "      <td>31</td>\n",
       "      <td>17031841200</td>\n",
       "      <td></td>\n",
       "      <td>841200</td>\n",
       "      <td>031</td>\n",
       "      <td>MULTIPOLYGON (((-87.68813 41.85569, -87.68816 ...</td>\n",
       "    </tr>\n",
       "    <tr>\n",
       "      <th>4</th>\n",
       "      <td>17</td>\n",
       "      <td>8390</td>\n",
       "      <td>32</td>\n",
       "      <td>Census Tract 8390</td>\n",
       "      <td>32</td>\n",
       "      <td>17031839000</td>\n",
       "      <td></td>\n",
       "      <td>839000</td>\n",
       "      <td>031</td>\n",
       "      <td>MULTIPOLYGON (((-87.63312 41.87449, -87.63306 ...</td>\n",
       "    </tr>\n",
       "  </tbody>\n",
       "</table>\n",
       "</div>"
      ],
      "text/plain": [
       "  statefp10 name10 commarea_n         namelsad10 commarea      geoid10 notes  \\\n",
       "0        17   8424         44  Census Tract 8424       44  17031842400         \n",
       "1        17   8403         59  Census Tract 8403       59  17031840300         \n",
       "2        17   8411         34  Census Tract 8411       34  17031841100         \n",
       "3        17   8412         31  Census Tract 8412       31  17031841200         \n",
       "4        17   8390         32  Census Tract 8390       32  17031839000         \n",
       "\n",
       "  tractce10 countyfp10                                           geometry  \n",
       "0    842400        031  MULTIPOLYGON (((-87.62405 41.73022, -87.62405 ...  \n",
       "1    840300        031  MULTIPOLYGON (((-87.68608 41.82296, -87.68607 ...  \n",
       "2    841100        031  MULTIPOLYGON (((-87.62935 41.85280, -87.62934 ...  \n",
       "3    841200        031  MULTIPOLYGON (((-87.68813 41.85569, -87.68816 ...  \n",
       "4    839000        031  MULTIPOLYGON (((-87.63312 41.87449, -87.63306 ...  "
      ]
     },
     "execution_count": 3,
     "metadata": {},
     "output_type": "execute_result"
    }
   ],
   "source": [
    "# import data with energizer package function\n",
    "trip_data = energizer.io.read_all_files()\n",
    "print('read in trip_data')\n",
    "geojson = energizer.io.read_all_files(filetype='geojson')\n",
    "geojson.head()"
   ]
  },
  {
   "cell_type": "markdown",
   "id": "500ab4bc",
   "metadata": {},
   "source": [
    "# Generate Hexagon adresses for each trip"
   ]
  },
  {
   "cell_type": "markdown",
   "id": "e3c3564f",
   "metadata": {},
   "source": [
    "## Generate hexagons"
   ]
  },
  {
   "cell_type": "markdown",
   "id": "1e577d03",
   "metadata": {},
   "source": [
    "Below the hexagon adresses in resolution 7 to 10 are added to the trip dataframe. The data gets stored in a seperated file to avoid merge errrors."
   ]
  },
  {
   "cell_type": "code",
   "execution_count": 12,
   "id": "7f629a67",
   "metadata": {
    "scrolled": true
   },
   "outputs": [
    {
     "name": "stderr",
     "output_type": "stream",
     "text": [
      "437540it [00:58, 7531.33it/s]\n"
     ]
    }
   ],
   "source": [
    "trip_data_h3_7_n = energizer.vis.generate_hexagons(trip_data, h3_resolution=7)"
   ]
  },
  {
   "cell_type": "code",
   "execution_count": 13,
   "id": "772d8a43",
   "metadata": {
    "scrolled": true
   },
   "outputs": [
    {
     "name": "stderr",
     "output_type": "stream",
     "text": [
      "437540it [00:58, 7448.28it/s]\n"
     ]
    }
   ],
   "source": [
    "trip_data_h3_8_n = energizer.vis.generate_hexagons(trip_data, h3_resolution=8)"
   ]
  },
  {
   "cell_type": "code",
   "execution_count": 12,
   "id": "0f645fb1",
   "metadata": {
    "scrolled": false
   },
   "outputs": [
    {
     "name": "stderr",
     "output_type": "stream",
     "text": [
      "8750798it [26:11, 5568.97it/s]\n"
     ]
    }
   ],
   "source": [
    "trip_data_h3_9 = energizer.vis.generate_hexagons(trip_data, h3_resolution=9)"
   ]
  },
  {
   "cell_type": "code",
   "execution_count": 39,
   "id": "0057670b",
   "metadata": {},
   "outputs": [
    {
     "name": "stderr",
     "output_type": "stream",
     "text": [
      "8750798it [27:07, 5375.26it/s]\n"
     ]
    }
   ],
   "source": [
    "trip_data_h3_10 = energizer.vis.generate_hexagons(trip_data, h3_resolution=10)"
   ]
  },
  {
   "cell_type": "markdown",
   "id": "d76cebc2",
   "metadata": {},
   "source": [
    "## Save modified trip_data"
   ]
  },
  {
   "cell_type": "markdown",
   "id": "e55c2863",
   "metadata": {},
   "source": [
    "Save data with hexagon adresses to a folder for reuse."
   ]
  },
  {
   "cell_type": "code",
   "execution_count": 120,
   "id": "ab134cf1",
   "metadata": {
    "scrolled": true
   },
   "outputs": [
    {
     "name": "stdout",
     "output_type": "stream",
     "text": [
      "Saving/Overwriting in progress ...\n",
      "First split\n",
      "Second split\n",
      "Third split\n",
      "Forth split\n",
      "Saved No. 1\n",
      "Saved No. 2\n",
      "Saved No. 3\n",
      "Saved No. 4\n",
      "Saving job finished\n"
     ]
    }
   ],
   "source": [
    "energizer.vis.saving_hexagons(trip_data_h3_7, resolution = 'hex_res_7')"
   ]
  },
  {
   "cell_type": "code",
   "execution_count": 105,
   "id": "9d105b2e",
   "metadata": {},
   "outputs": [
    {
     "name": "stdout",
     "output_type": "stream",
     "text": [
      "Saving/Overwriting in progress ...\n",
      "First split\n",
      "Second split\n",
      "Third split\n",
      "Forth split\n",
      "Saved No. 1\n",
      "Saved No. 2\n",
      "Saved No. 3\n",
      "Saved No. 4\n",
      "Saving job finished\n"
     ]
    }
   ],
   "source": [
    "energizer.vis.saving_hexagons(trip_data_h3_8, resolution = 'hex_res_8')"
   ]
  },
  {
   "cell_type": "code",
   "execution_count": 14,
   "id": "7574d987",
   "metadata": {
    "scrolled": true
   },
   "outputs": [
    {
     "name": "stdout",
     "output_type": "stream",
     "text": [
      "Saving/Overwriting in progress ...\n",
      "First split\n",
      "Second split\n",
      "Third split\n",
      "Forth split\n",
      "Saved No. 1\n",
      "Saved No. 2\n",
      "Saved No. 3\n",
      "Saved No. 4\n",
      "Saving job finished\n"
     ]
    }
   ],
   "source": [
    "energizer.vis.saving_hexagons(trip_data_h3_9, resolution = 'hex_res_9')"
   ]
  },
  {
   "cell_type": "code",
   "execution_count": 41,
   "id": "ff2aff69",
   "metadata": {},
   "outputs": [
    {
     "name": "stdout",
     "output_type": "stream",
     "text": [
      "Saving/Overwriting in progress ...\n",
      "First split\n",
      "Second split\n",
      "Third split\n",
      "Forth split\n",
      "Saved No. 1\n",
      "Saved No. 2\n",
      "Saved No. 3\n",
      "Saved No. 4\n",
      "Saving job finished\n"
     ]
    }
   ],
   "source": [
    "energizer.vis.saving_hexagons(trip_data_h3_10, resolution = 'hex_res_10')"
   ]
  }
 ],
 "metadata": {
  "kernelspec": {
   "display_name": "Python 3",
   "language": "python",
   "name": "python3"
  },
  "language_info": {
   "codemirror_mode": {
    "name": "ipython",
    "version": 3
   },
   "file_extension": ".py",
   "mimetype": "text/x-python",
   "name": "python",
   "nbconvert_exporter": "python",
   "pygments_lexer": "ipython3",
   "version": "3.9.4"
  },
  "toc": {
   "base_numbering": 1,
   "nav_menu": {},
   "number_sections": true,
   "sideBar": true,
   "skip_h1_title": false,
   "title_cell": "Table of Contents",
   "title_sidebar": "Contents",
   "toc_cell": false,
   "toc_position": {},
   "toc_section_display": true,
   "toc_window_display": false
  },
  "varInspector": {
   "cols": {
    "lenName": 16,
    "lenType": 16,
    "lenVar": 40
   },
   "kernels_config": {
    "python": {
     "delete_cmd_postfix": "",
     "delete_cmd_prefix": "del ",
     "library": "var_list.py",
     "varRefreshCmd": "print(var_dic_list())"
    },
    "r": {
     "delete_cmd_postfix": ") ",
     "delete_cmd_prefix": "rm(",
     "library": "var_list.r",
     "varRefreshCmd": "cat(var_dic_list()) "
    }
   },
   "position": {
    "height": "573.4px",
    "left": "1150px",
    "right": "20px",
    "top": "120px",
    "width": "356px"
   },
   "types_to_exclude": [
    "module",
    "function",
    "builtin_function_or_method",
    "instance",
    "_Feature"
   ],
   "window_display": false
  }
 },
 "nbformat": 4,
 "nbformat_minor": 5
}
