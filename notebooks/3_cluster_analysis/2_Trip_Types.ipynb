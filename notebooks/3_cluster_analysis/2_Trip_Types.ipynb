{
 "cells": [
  {
   "cell_type": "code",
   "execution_count": 1,
   "metadata": {},
   "outputs": [],
   "source": [
    "import os\n",
    "import numpy as np\n",
    "import pandas as pd\n",
    "import matplotlib.pyplot as plt\n",
    "from sklearn.cluster import KMeans\n",
    "from sklearn.mixture import GaussianMixture\n",
    "from sklearn.preprocessing import StandardScaler\n"
   ]
  },
  {
   "cell_type": "code",
   "execution_count": 2,
   "metadata": {},
   "outputs": [],
   "source": [
    "pd.set_option('display.max_columns', None)"
   ]
  },
  {
   "cell_type": "code",
   "execution_count": 3,
   "metadata": {},
   "outputs": [],
   "source": [
    "df = pd.read_parquet(os.path.join(\"..\", \"..\", \"data\", \"input\",\"clean\", \"trip_data1.parquet\"))"
   ]
  },
  {
   "cell_type": "code",
   "execution_count": 4,
   "metadata": {},
   "outputs": [],
   "source": [
    "df.dropna(inplace=True)"
   ]
  },
  {
   "cell_type": "code",
   "execution_count": 45,
   "metadata": {},
   "outputs": [],
   "source": [
    "df[\"start_hour\"]=df[\"trip_start_timestamp\"].dt.hour"
   ]
  },
  {
   "cell_type": "code",
   "execution_count": 54,
   "metadata": {},
   "outputs": [],
   "source": [
    "trip_data = df.drop(columns=[\"trip_id\", \"taxi_id\", \"company\",\n",
    "                             \"trip_start_timestamp\", \"trip_end_timestamp\", \n",
    "                             \"pickup_census_tract\", \"pickup_centroid_location\", \n",
    "                             \"dropoff_census_tract\", \"dropoff_centroid_location\"])"
   ]
  },
  {
   "cell_type": "markdown",
   "metadata": {},
   "source": [
    "## Cluster of Payment Type and Fare"
   ]
  },
  {
   "cell_type": "code",
   "execution_count": 7,
   "metadata": {},
   "outputs": [
    {
     "data": {
      "text/plain": [
       "array(['Credit Card', 'Cash', 'Dispute', 'No Charge', 'Unknown', 'Pcard'],\n",
       "      dtype=object)"
      ]
     },
     "execution_count": 7,
     "metadata": {},
     "output_type": "execute_result"
    }
   ],
   "source": [
    "X[\"payment_type\"].unique()"
   ]
  },
  {
   "cell_type": "code",
   "execution_count": 8,
   "metadata": {},
   "outputs": [],
   "source": [
    "payment_type = {\n",
    "  'Credit Card': 1,\n",
    "    'Cash':2, \n",
    "    'Dispute':3, \n",
    "    'No Charge':4,\n",
    "    'Unknown':5, \n",
    "    'Pcard':6\n",
    "}"
   ]
  },
  {
   "cell_type": "code",
   "execution_count": 58,
   "metadata": {},
   "outputs": [],
   "source": [
    "trip_data[\"payment_type\"] = trip_data[\"payment_type\"].map(payment_type)"
   ]
  },
  {
   "cell_type": "code",
   "execution_count": 60,
   "metadata": {},
   "outputs": [
    {
     "data": {
      "text/html": [
       "<div>\n",
       "<style scoped>\n",
       "    .dataframe tbody tr th:only-of-type {\n",
       "        vertical-align: middle;\n",
       "    }\n",
       "\n",
       "    .dataframe tbody tr th {\n",
       "        vertical-align: top;\n",
       "    }\n",
       "\n",
       "    .dataframe thead th {\n",
       "        text-align: right;\n",
       "    }\n",
       "</style>\n",
       "<table border=\"1\" class=\"dataframe\">\n",
       "  <thead>\n",
       "    <tr style=\"text-align: right;\">\n",
       "      <th></th>\n",
       "      <th>trip_seconds</th>\n",
       "      <th>trip_miles</th>\n",
       "      <th>fare</th>\n",
       "      <th>tips</th>\n",
       "      <th>tolls</th>\n",
       "      <th>extras</th>\n",
       "      <th>trip_total</th>\n",
       "      <th>payment_type</th>\n",
       "      <th>pickup_community_area</th>\n",
       "      <th>pickup_centroid_latitude</th>\n",
       "      <th>pickup_centroid_longitude</th>\n",
       "      <th>dropoff_community_area</th>\n",
       "      <th>dropoff_centroid_latitude</th>\n",
       "      <th>dropoff_centroid_longitude</th>\n",
       "      <th>start_hour</th>\n",
       "    </tr>\n",
       "  </thead>\n",
       "  <tbody>\n",
       "    <tr>\n",
       "      <th>668</th>\n",
       "      <td>480.0</td>\n",
       "      <td>3.8</td>\n",
       "      <td>10.65</td>\n",
       "      <td>2.00</td>\n",
       "      <td>0.0</td>\n",
       "      <td>1.0</td>\n",
       "      <td>13.65</td>\n",
       "      <td>1</td>\n",
       "      <td>8.0</td>\n",
       "      <td>41.892042</td>\n",
       "      <td>-87.631864</td>\n",
       "      <td>7.0</td>\n",
       "      <td>41.921877</td>\n",
       "      <td>-87.664078</td>\n",
       "      <td>0</td>\n",
       "    </tr>\n",
       "    <tr>\n",
       "      <th>746</th>\n",
       "      <td>1080.0</td>\n",
       "      <td>2.6</td>\n",
       "      <td>12.85</td>\n",
       "      <td>0.00</td>\n",
       "      <td>0.0</td>\n",
       "      <td>0.0</td>\n",
       "      <td>12.85</td>\n",
       "      <td>2</td>\n",
       "      <td>24.0</td>\n",
       "      <td>41.892658</td>\n",
       "      <td>-87.652534</td>\n",
       "      <td>6.0</td>\n",
       "      <td>41.942585</td>\n",
       "      <td>-87.656644</td>\n",
       "      <td>0</td>\n",
       "    </tr>\n",
       "    <tr>\n",
       "      <th>748</th>\n",
       "      <td>180.0</td>\n",
       "      <td>0.1</td>\n",
       "      <td>4.25</td>\n",
       "      <td>0.00</td>\n",
       "      <td>0.0</td>\n",
       "      <td>1.5</td>\n",
       "      <td>5.75</td>\n",
       "      <td>2</td>\n",
       "      <td>8.0</td>\n",
       "      <td>41.892073</td>\n",
       "      <td>-87.628874</td>\n",
       "      <td>32.0</td>\n",
       "      <td>41.880994</td>\n",
       "      <td>-87.632746</td>\n",
       "      <td>0</td>\n",
       "    </tr>\n",
       "    <tr>\n",
       "      <th>750</th>\n",
       "      <td>780.0</td>\n",
       "      <td>0.9</td>\n",
       "      <td>8.25</td>\n",
       "      <td>0.00</td>\n",
       "      <td>0.0</td>\n",
       "      <td>1.0</td>\n",
       "      <td>9.25</td>\n",
       "      <td>2</td>\n",
       "      <td>8.0</td>\n",
       "      <td>41.907492</td>\n",
       "      <td>-87.635760</td>\n",
       "      <td>8.0</td>\n",
       "      <td>41.907492</td>\n",
       "      <td>-87.635760</td>\n",
       "      <td>0</td>\n",
       "    </tr>\n",
       "    <tr>\n",
       "      <th>752</th>\n",
       "      <td>480.0</td>\n",
       "      <td>1.8</td>\n",
       "      <td>7.45</td>\n",
       "      <td>0.00</td>\n",
       "      <td>0.0</td>\n",
       "      <td>0.0</td>\n",
       "      <td>7.45</td>\n",
       "      <td>2</td>\n",
       "      <td>8.0</td>\n",
       "      <td>41.900221</td>\n",
       "      <td>-87.629105</td>\n",
       "      <td>32.0</td>\n",
       "      <td>41.880994</td>\n",
       "      <td>-87.632746</td>\n",
       "      <td>0</td>\n",
       "    </tr>\n",
       "    <tr>\n",
       "      <th>...</th>\n",
       "      <td>...</td>\n",
       "      <td>...</td>\n",
       "      <td>...</td>\n",
       "      <td>...</td>\n",
       "      <td>...</td>\n",
       "      <td>...</td>\n",
       "      <td>...</td>\n",
       "      <td>...</td>\n",
       "      <td>...</td>\n",
       "      <td>...</td>\n",
       "      <td>...</td>\n",
       "      <td>...</td>\n",
       "      <td>...</td>\n",
       "      <td>...</td>\n",
       "      <td>...</td>\n",
       "    </tr>\n",
       "    <tr>\n",
       "      <th>6676076</th>\n",
       "      <td>420.0</td>\n",
       "      <td>1.6</td>\n",
       "      <td>6.85</td>\n",
       "      <td>2.00</td>\n",
       "      <td>0.0</td>\n",
       "      <td>0.0</td>\n",
       "      <td>8.85</td>\n",
       "      <td>1</td>\n",
       "      <td>32.0</td>\n",
       "      <td>41.880994</td>\n",
       "      <td>-87.632746</td>\n",
       "      <td>8.0</td>\n",
       "      <td>41.898332</td>\n",
       "      <td>-87.620763</td>\n",
       "      <td>19</td>\n",
       "    </tr>\n",
       "    <tr>\n",
       "      <th>6676078</th>\n",
       "      <td>300.0</td>\n",
       "      <td>1.7</td>\n",
       "      <td>6.45</td>\n",
       "      <td>3.00</td>\n",
       "      <td>0.0</td>\n",
       "      <td>0.0</td>\n",
       "      <td>9.45</td>\n",
       "      <td>1</td>\n",
       "      <td>32.0</td>\n",
       "      <td>41.880994</td>\n",
       "      <td>-87.632746</td>\n",
       "      <td>28.0</td>\n",
       "      <td>41.879067</td>\n",
       "      <td>-87.657005</td>\n",
       "      <td>19</td>\n",
       "    </tr>\n",
       "    <tr>\n",
       "      <th>6676080</th>\n",
       "      <td>1320.0</td>\n",
       "      <td>11.4</td>\n",
       "      <td>24.85</td>\n",
       "      <td>6.71</td>\n",
       "      <td>0.0</td>\n",
       "      <td>2.0</td>\n",
       "      <td>33.56</td>\n",
       "      <td>1</td>\n",
       "      <td>56.0</td>\n",
       "      <td>41.785999</td>\n",
       "      <td>-87.750934</td>\n",
       "      <td>24.0</td>\n",
       "      <td>41.892658</td>\n",
       "      <td>-87.652534</td>\n",
       "      <td>19</td>\n",
       "    </tr>\n",
       "    <tr>\n",
       "      <th>6676082</th>\n",
       "      <td>1260.0</td>\n",
       "      <td>11.2</td>\n",
       "      <td>24.45</td>\n",
       "      <td>0.00</td>\n",
       "      <td>0.0</td>\n",
       "      <td>2.0</td>\n",
       "      <td>26.45</td>\n",
       "      <td>2</td>\n",
       "      <td>56.0</td>\n",
       "      <td>41.785999</td>\n",
       "      <td>-87.750934</td>\n",
       "      <td>32.0</td>\n",
       "      <td>41.870607</td>\n",
       "      <td>-87.622173</td>\n",
       "      <td>19</td>\n",
       "    </tr>\n",
       "    <tr>\n",
       "      <th>6676085</th>\n",
       "      <td>540.0</td>\n",
       "      <td>2.1</td>\n",
       "      <td>8.05</td>\n",
       "      <td>0.00</td>\n",
       "      <td>0.0</td>\n",
       "      <td>2.0</td>\n",
       "      <td>10.05</td>\n",
       "      <td>2</td>\n",
       "      <td>32.0</td>\n",
       "      <td>41.884987</td>\n",
       "      <td>-87.620993</td>\n",
       "      <td>7.0</td>\n",
       "      <td>41.914616</td>\n",
       "      <td>-87.631717</td>\n",
       "      <td>19</td>\n",
       "    </tr>\n",
       "  </tbody>\n",
       "</table>\n",
       "<p>2036293 rows × 15 columns</p>\n",
       "</div>"
      ],
      "text/plain": [
       "         trip_seconds  trip_miles   fare  tips  tolls  extras  trip_total  \\\n",
       "668             480.0         3.8  10.65  2.00    0.0     1.0       13.65   \n",
       "746            1080.0         2.6  12.85  0.00    0.0     0.0       12.85   \n",
       "748             180.0         0.1   4.25  0.00    0.0     1.5        5.75   \n",
       "750             780.0         0.9   8.25  0.00    0.0     1.0        9.25   \n",
       "752             480.0         1.8   7.45  0.00    0.0     0.0        7.45   \n",
       "...               ...         ...    ...   ...    ...     ...         ...   \n",
       "6676076         420.0         1.6   6.85  2.00    0.0     0.0        8.85   \n",
       "6676078         300.0         1.7   6.45  3.00    0.0     0.0        9.45   \n",
       "6676080        1320.0        11.4  24.85  6.71    0.0     2.0       33.56   \n",
       "6676082        1260.0        11.2  24.45  0.00    0.0     2.0       26.45   \n",
       "6676085         540.0         2.1   8.05  0.00    0.0     2.0       10.05   \n",
       "\n",
       "         payment_type  pickup_community_area  pickup_centroid_latitude  \\\n",
       "668                 1                    8.0                 41.892042   \n",
       "746                 2                   24.0                 41.892658   \n",
       "748                 2                    8.0                 41.892073   \n",
       "750                 2                    8.0                 41.907492   \n",
       "752                 2                    8.0                 41.900221   \n",
       "...               ...                    ...                       ...   \n",
       "6676076             1                   32.0                 41.880994   \n",
       "6676078             1                   32.0                 41.880994   \n",
       "6676080             1                   56.0                 41.785999   \n",
       "6676082             2                   56.0                 41.785999   \n",
       "6676085             2                   32.0                 41.884987   \n",
       "\n",
       "         pickup_centroid_longitude  dropoff_community_area  \\\n",
       "668                     -87.631864                     7.0   \n",
       "746                     -87.652534                     6.0   \n",
       "748                     -87.628874                    32.0   \n",
       "750                     -87.635760                     8.0   \n",
       "752                     -87.629105                    32.0   \n",
       "...                            ...                     ...   \n",
       "6676076                 -87.632746                     8.0   \n",
       "6676078                 -87.632746                    28.0   \n",
       "6676080                 -87.750934                    24.0   \n",
       "6676082                 -87.750934                    32.0   \n",
       "6676085                 -87.620993                     7.0   \n",
       "\n",
       "         dropoff_centroid_latitude  dropoff_centroid_longitude  start_hour  \n",
       "668                      41.921877                  -87.664078           0  \n",
       "746                      41.942585                  -87.656644           0  \n",
       "748                      41.880994                  -87.632746           0  \n",
       "750                      41.907492                  -87.635760           0  \n",
       "752                      41.880994                  -87.632746           0  \n",
       "...                            ...                         ...         ...  \n",
       "6676076                  41.898332                  -87.620763          19  \n",
       "6676078                  41.879067                  -87.657005          19  \n",
       "6676080                  41.892658                  -87.652534          19  \n",
       "6676082                  41.870607                  -87.622173          19  \n",
       "6676085                  41.914616                  -87.631717          19  \n",
       "\n",
       "[2036293 rows x 15 columns]"
      ]
     },
     "execution_count": 60,
     "metadata": {},
     "output_type": "execute_result"
    }
   ],
   "source": [
    "trip_data"
   ]
  },
  {
   "cell_type": "code",
   "execution_count": 61,
   "metadata": {},
   "outputs": [],
   "source": [
    "trip_data = trip_data.apply(pd.to_numeric)"
   ]
  },
  {
   "cell_type": "code",
   "execution_count": 63,
   "metadata": {},
   "outputs": [],
   "source": [
    "kmeans=KMeans(n_clusters=4)\n",
    "# array = X.to_numpy(trip_data)\n",
    "array = StandardScaler().fit_transform(array)\n",
    "labels = kmeans_cluster.fit_predict(array)"
   ]
  },
  {
   "cell_type": "code",
   "execution_count": 64,
   "metadata": {},
   "outputs": [
    {
     "name": "stderr",
     "output_type": "stream",
     "text": [
      "<ipython-input-64-5f6ec8f2ed37>:1: SettingWithCopyWarning: \n",
      "A value is trying to be set on a copy of a slice from a DataFrame.\n",
      "Try using .loc[row_indexer,col_indexer] = value instead\n",
      "\n",
      "See the caveats in the documentation: https://pandas.pydata.org/pandas-docs/stable/user_guide/indexing.html#returning-a-view-versus-a-copy\n",
      "  X[\"labels\"] = labels\n"
     ]
    }
   ],
   "source": []
  },
  {
   "cell_type": "code",
   "execution_count": 65,
   "metadata": {},
   "outputs": [
    {
     "data": {
      "text/html": [
       "<div>\n",
       "<style scoped>\n",
       "    .dataframe tbody tr th:only-of-type {\n",
       "        vertical-align: middle;\n",
       "    }\n",
       "\n",
       "    .dataframe tbody tr th {\n",
       "        vertical-align: top;\n",
       "    }\n",
       "\n",
       "    .dataframe thead th {\n",
       "        text-align: right;\n",
       "    }\n",
       "</style>\n",
       "<table border=\"1\" class=\"dataframe\">\n",
       "  <thead>\n",
       "    <tr style=\"text-align: right;\">\n",
       "      <th></th>\n",
       "      <th>payment_type</th>\n",
       "      <th>trip_miles</th>\n",
       "      <th>fare</th>\n",
       "      <th>trip_seconds</th>\n",
       "      <th>pickup_centroid_latitude</th>\n",
       "      <th>pickup_centroid_longitude</th>\n",
       "      <th>start_hour</th>\n",
       "      <th>labels</th>\n",
       "    </tr>\n",
       "  </thead>\n",
       "  <tbody>\n",
       "    <tr>\n",
       "      <th>668</th>\n",
       "      <td>1</td>\n",
       "      <td>3.8</td>\n",
       "      <td>10.65</td>\n",
       "      <td>480.0</td>\n",
       "      <td>41.892042</td>\n",
       "      <td>-87.631864</td>\n",
       "      <td>0</td>\n",
       "      <td>3</td>\n",
       "    </tr>\n",
       "    <tr>\n",
       "      <th>746</th>\n",
       "      <td>2</td>\n",
       "      <td>2.6</td>\n",
       "      <td>12.85</td>\n",
       "      <td>1080.0</td>\n",
       "      <td>41.892658</td>\n",
       "      <td>-87.652534</td>\n",
       "      <td>0</td>\n",
       "      <td>0</td>\n",
       "    </tr>\n",
       "    <tr>\n",
       "      <th>748</th>\n",
       "      <td>2</td>\n",
       "      <td>0.1</td>\n",
       "      <td>4.25</td>\n",
       "      <td>180.0</td>\n",
       "      <td>41.892073</td>\n",
       "      <td>-87.628874</td>\n",
       "      <td>0</td>\n",
       "      <td>0</td>\n",
       "    </tr>\n",
       "    <tr>\n",
       "      <th>750</th>\n",
       "      <td>2</td>\n",
       "      <td>0.9</td>\n",
       "      <td>8.25</td>\n",
       "      <td>780.0</td>\n",
       "      <td>41.907492</td>\n",
       "      <td>-87.635760</td>\n",
       "      <td>0</td>\n",
       "      <td>0</td>\n",
       "    </tr>\n",
       "    <tr>\n",
       "      <th>752</th>\n",
       "      <td>2</td>\n",
       "      <td>1.8</td>\n",
       "      <td>7.45</td>\n",
       "      <td>480.0</td>\n",
       "      <td>41.900221</td>\n",
       "      <td>-87.629105</td>\n",
       "      <td>0</td>\n",
       "      <td>0</td>\n",
       "    </tr>\n",
       "    <tr>\n",
       "      <th>...</th>\n",
       "      <td>...</td>\n",
       "      <td>...</td>\n",
       "      <td>...</td>\n",
       "      <td>...</td>\n",
       "      <td>...</td>\n",
       "      <td>...</td>\n",
       "      <td>...</td>\n",
       "      <td>...</td>\n",
       "    </tr>\n",
       "    <tr>\n",
       "      <th>6676076</th>\n",
       "      <td>1</td>\n",
       "      <td>1.6</td>\n",
       "      <td>6.85</td>\n",
       "      <td>420.0</td>\n",
       "      <td>41.880994</td>\n",
       "      <td>-87.632746</td>\n",
       "      <td>19</td>\n",
       "      <td>3</td>\n",
       "    </tr>\n",
       "    <tr>\n",
       "      <th>6676078</th>\n",
       "      <td>1</td>\n",
       "      <td>1.7</td>\n",
       "      <td>6.45</td>\n",
       "      <td>300.0</td>\n",
       "      <td>41.880994</td>\n",
       "      <td>-87.632746</td>\n",
       "      <td>19</td>\n",
       "      <td>3</td>\n",
       "    </tr>\n",
       "    <tr>\n",
       "      <th>6676080</th>\n",
       "      <td>1</td>\n",
       "      <td>11.4</td>\n",
       "      <td>24.85</td>\n",
       "      <td>1320.0</td>\n",
       "      <td>41.785999</td>\n",
       "      <td>-87.750934</td>\n",
       "      <td>19</td>\n",
       "      <td>3</td>\n",
       "    </tr>\n",
       "    <tr>\n",
       "      <th>6676082</th>\n",
       "      <td>2</td>\n",
       "      <td>11.2</td>\n",
       "      <td>24.45</td>\n",
       "      <td>1260.0</td>\n",
       "      <td>41.785999</td>\n",
       "      <td>-87.750934</td>\n",
       "      <td>19</td>\n",
       "      <td>0</td>\n",
       "    </tr>\n",
       "    <tr>\n",
       "      <th>6676085</th>\n",
       "      <td>2</td>\n",
       "      <td>2.1</td>\n",
       "      <td>8.05</td>\n",
       "      <td>540.0</td>\n",
       "      <td>41.884987</td>\n",
       "      <td>-87.620993</td>\n",
       "      <td>19</td>\n",
       "      <td>0</td>\n",
       "    </tr>\n",
       "  </tbody>\n",
       "</table>\n",
       "<p>2036293 rows × 8 columns</p>\n",
       "</div>"
      ],
      "text/plain": [
       "         payment_type  trip_miles   fare  trip_seconds  \\\n",
       "668                 1         3.8  10.65         480.0   \n",
       "746                 2         2.6  12.85        1080.0   \n",
       "748                 2         0.1   4.25         180.0   \n",
       "750                 2         0.9   8.25         780.0   \n",
       "752                 2         1.8   7.45         480.0   \n",
       "...               ...         ...    ...           ...   \n",
       "6676076             1         1.6   6.85         420.0   \n",
       "6676078             1         1.7   6.45         300.0   \n",
       "6676080             1        11.4  24.85        1320.0   \n",
       "6676082             2        11.2  24.45        1260.0   \n",
       "6676085             2         2.1   8.05         540.0   \n",
       "\n",
       "         pickup_centroid_latitude  pickup_centroid_longitude  start_hour  \\\n",
       "668                     41.892042                 -87.631864           0   \n",
       "746                     41.892658                 -87.652534           0   \n",
       "748                     41.892073                 -87.628874           0   \n",
       "750                     41.907492                 -87.635760           0   \n",
       "752                     41.900221                 -87.629105           0   \n",
       "...                           ...                        ...         ...   \n",
       "6676076                 41.880994                 -87.632746          19   \n",
       "6676078                 41.880994                 -87.632746          19   \n",
       "6676080                 41.785999                 -87.750934          19   \n",
       "6676082                 41.785999                 -87.750934          19   \n",
       "6676085                 41.884987                 -87.620993          19   \n",
       "\n",
       "         labels  \n",
       "668           3  \n",
       "746           0  \n",
       "748           0  \n",
       "750           0  \n",
       "752           0  \n",
       "...         ...  \n",
       "6676076       3  \n",
       "6676078       3  \n",
       "6676080       3  \n",
       "6676082       0  \n",
       "6676085       0  \n",
       "\n",
       "[2036293 rows x 8 columns]"
      ]
     },
     "execution_count": 65,
     "metadata": {},
     "output_type": "execute_result"
    }
   ],
   "source": [
    "X"
   ]
  },
  {
   "cell_type": "markdown",
   "metadata": {},
   "source": [
    "## Payment Type and Fare Amont"
   ]
  },
  {
   "cell_type": "code",
   "execution_count": 66,
   "metadata": {},
   "outputs": [
    {
     "data": {
      "image/png": "[encoded data removed]",
      "text/plain": [
       "<Figure size 432x288 with 1 Axes>"
      ]
     },
     "metadata": {
      "needs_background": "light"
     },
     "output_type": "display_data"
    }
   ],
   "source": [
    "label_colors = [\"#2AB0E9\", \"#2BAF74\", \"#D7665E\", \"#D2CA0D\", #blue, green, red, yellow\n",
    "                \"#CCCCCC\", \"#522A64\", \"#A3DB05\", \"#FC6514\"]\n",
    "\n",
    "colors = [label_colors[i] for i in labels]\n",
    "plt.scatter(X[\"payment_type\"], X[\"fare\"], c=colors)\n",
    "plt.title(\"k-Means (Chicago)\")\n",
    "plt.xlabel(\"P\")\n",
    "plt.ylabel(\"F\")\n",
    "\n",
    "plt.show()"
   ]
  },
  {
   "cell_type": "markdown",
   "metadata": {},
   "source": [
    "## Payment Type and Start Hour"
   ]
  },
  {
   "cell_type": "code",
   "execution_count": 52,
   "metadata": {},
   "outputs": [
    {
     "data": {
      "image/png": "[encoded data removed]",
      "text/plain": [
       "<Figure size 432x288 with 1 Axes>"
      ]
     },
     "metadata": {
      "needs_background": "light"
     },
     "output_type": "display_data"
    }
   ],
   "source": [
    "label_colors = [\"#2AB0E9\", \"#2BAF74\", \"#D7665E\", \"#D2CA0D\", #blue, green, red, yellow\n",
    "                \"#CCCCCC\", \"#522A64\", \"#A3DB05\", \"#FC6514\"]\n",
    "\n",
    "colors = [label_colors[i] for i in labels]\n",
    "plt.scatter(X[\"start_hour\"], X[\"payment_type\"], c=colors)\n",
    "plt.title(\"k-Means (Chicago)\")\n",
    "plt.xlabel(\"Start Hour \")\n",
    "plt.ylabel(\"Payment Type\")\n",
    "\n",
    "plt.show()"
   ]
  },
  {
   "cell_type": "markdown",
   "metadata": {},
   "source": [
    "## Start Hour/ Demand (K-Means)"
   ]
  },
  {
   "cell_type": "code",
   "execution_count": 40,
   "metadata": {},
   "outputs": [],
   "source": [
    "df[\"start_month\"] = df[\"trip_start_timestamp\"].dt.month\n",
    "df[\"start_day\"] = df[\"trip_start_timestamp\"].dt.day\n",
    "df[\"start_hour\"] = df[\"trip_start_timestamp\"].dt.hour"
   ]
  },
  {
   "cell_type": "code",
   "execution_count": 55,
   "metadata": {},
   "outputs": [],
   "source": [
    "df_hour_demand=df.groupby([\"start_month\", \"start_day\", \"start_hour\"])[\"trip_id\"].count().reset_index()\n",
    "df_hour_demand.drop(columns=[\"start_day\", \"start_month\"], axis=1, inplace=True)"
   ]
  },
  {
   "cell_type": "code",
   "execution_count": 56,
   "metadata": {},
   "outputs": [],
   "source": [
    "scaler=StandardScaler()"
   ]
  },
  {
   "cell_type": "code",
   "execution_count": 57,
   "metadata": {},
   "outputs": [],
   "source": [
    "df_hour_demand = scaler.fit_transform(df_hour_demand)\n",
    "kmeans = KMeans(n_clusters=4, random_state=10).fit(df_hour_demand)"
   ]
  },
  {
   "cell_type": "code",
   "execution_count": 58,
   "metadata": {},
   "outputs": [],
   "source": [
    "labels = kmeans.predict(df_hour_demand)"
   ]
  },
  {
   "cell_type": "code",
   "execution_count": 59,
   "metadata": {},
   "outputs": [],
   "source": [
    "df_hour_demand=scaler.inverse_transform(df_hour_demand)"
   ]
  },
  {
   "cell_type": "code",
   "execution_count": 18,
   "metadata": {},
   "outputs": [],
   "source": [
    "df_hour_demand[\"labels\"] = labels"
   ]
  },
  {
   "cell_type": "code",
   "execution_count": 61,
   "metadata": {},
   "outputs": [],
   "source": [
    "df_hour_demand_array = pd.DataFrame(df_hour_demand)"
   ]
  },
  {
   "cell_type": "code",
   "execution_count": 62,
   "metadata": {},
   "outputs": [
    {
     "data": {
      "text/html": [
       "<div>\n",
       "<style scoped>\n",
       "    .dataframe tbody tr th:only-of-type {\n",
       "        vertical-align: middle;\n",
       "    }\n",
       "\n",
       "    .dataframe tbody tr th {\n",
       "        vertical-align: top;\n",
       "    }\n",
       "\n",
       "    .dataframe thead th {\n",
       "        text-align: right;\n",
       "    }\n",
       "</style>\n",
       "<table border=\"1\" class=\"dataframe\">\n",
       "  <thead>\n",
       "    <tr style=\"text-align: right;\">\n",
       "      <th></th>\n",
       "      <th>0</th>\n",
       "      <th>1</th>\n",
       "    </tr>\n",
       "  </thead>\n",
       "  <tbody>\n",
       "    <tr>\n",
       "      <th>0</th>\n",
       "      <td>0.0</td>\n",
       "      <td>2927.0</td>\n",
       "    </tr>\n",
       "    <tr>\n",
       "      <th>1</th>\n",
       "      <td>1.0</td>\n",
       "      <td>4528.0</td>\n",
       "    </tr>\n",
       "    <tr>\n",
       "      <th>2</th>\n",
       "      <td>2.0</td>\n",
       "      <td>4739.0</td>\n",
       "    </tr>\n",
       "    <tr>\n",
       "      <th>3</th>\n",
       "      <td>3.0</td>\n",
       "      <td>3902.0</td>\n",
       "    </tr>\n",
       "    <tr>\n",
       "      <th>4</th>\n",
       "      <td>4.0</td>\n",
       "      <td>2345.0</td>\n",
       "    </tr>\n",
       "    <tr>\n",
       "      <th>...</th>\n",
       "      <td>...</td>\n",
       "      <td>...</td>\n",
       "    </tr>\n",
       "    <tr>\n",
       "      <th>2510</th>\n",
       "      <td>15.0</td>\n",
       "      <td>1671.0</td>\n",
       "    </tr>\n",
       "    <tr>\n",
       "      <th>2511</th>\n",
       "      <td>16.0</td>\n",
       "      <td>2022.0</td>\n",
       "    </tr>\n",
       "    <tr>\n",
       "      <th>2512</th>\n",
       "      <td>17.0</td>\n",
       "      <td>2195.0</td>\n",
       "    </tr>\n",
       "    <tr>\n",
       "      <th>2513</th>\n",
       "      <td>18.0</td>\n",
       "      <td>2507.0</td>\n",
       "    </tr>\n",
       "    <tr>\n",
       "      <th>2514</th>\n",
       "      <td>19.0</td>\n",
       "      <td>1589.0</td>\n",
       "    </tr>\n",
       "  </tbody>\n",
       "</table>\n",
       "<p>2515 rows × 2 columns</p>\n",
       "</div>"
      ],
      "text/plain": [
       "         0       1\n",
       "0      0.0  2927.0\n",
       "1      1.0  4528.0\n",
       "2      2.0  4739.0\n",
       "3      3.0  3902.0\n",
       "4      4.0  2345.0\n",
       "...    ...     ...\n",
       "2510  15.0  1671.0\n",
       "2511  16.0  2022.0\n",
       "2512  17.0  2195.0\n",
       "2513  18.0  2507.0\n",
       "2514  19.0  1589.0\n",
       "\n",
       "[2515 rows x 2 columns]"
      ]
     },
     "execution_count": 62,
     "metadata": {},
     "output_type": "execute_result"
    }
   ],
   "source": [
    "df_hour_demand_array"
   ]
  },
  {
   "cell_type": "code",
   "execution_count": 63,
   "metadata": {},
   "outputs": [
    {
     "data": {
      "image/png": "[encoded data removed]",
      "text/plain": [
       "<Figure size 432x288 with 1 Axes>"
      ]
     },
     "metadata": {
      "needs_background": "light"
     },
     "output_type": "display_data"
    }
   ],
   "source": [
    "label_colors = [\"#2AB0E9\", \"#2BAF74\", \"#D7665E\", \"#D2CA0D\", #blue, green, red, yellow\n",
    "                \"#CCCCCC\", \"#522A64\", \"#A3DB05\", \"#FC6514\"]\n",
    "\n",
    "\n",
    "colors = [label_colors[i] for i in labels]\n",
    "plt.scatter(df_hour_demand_array[0], df_hour_demand_array[1], c=colors, alpha=0.5)\n",
    "plt.title(\"k-Means (Chicago)\")\n",
    "plt.xlabel(\"Start Hour \")\n",
    "plt.ylabel(\"Demand\")\n",
    "\n",
    "plt.show()"
   ]
  },
  {
   "cell_type": "code",
   "execution_count": null,
   "metadata": {},
   "outputs": [],
   "source": [
    "# standard scaler "
   ]
  },
  {
   "cell_type": "markdown",
   "metadata": {},
   "source": [
    "## Start Hour/ Demand Gaussian Mixture Model"
   ]
  },
  {
   "cell_type": "code",
   "execution_count": 20,
   "metadata": {},
   "outputs": [],
   "source": [
    "df[\"start_month\"] = df[\"trip_start_timestamp\"].dt.month\n",
    "df[\"start_day\"] = df[\"trip_start_timestamp\"].dt.day\n",
    "df[\"start_hour\"] = df[\"trip_start_timestamp\"].dt.hour"
   ]
  },
  {
   "cell_type": "code",
   "execution_count": 21,
   "metadata": {},
   "outputs": [],
   "source": [
    "df_hour_demand=df.groupby([\"start_month\", \"start_day\", \"start_hour\"])[\"trip_id\"].count().reset_index()\n",
    "df_hour_demand.drop(columns=[\"start_day\", \"start_month\"], axis=1, inplace=True)"
   ]
  },
  {
   "cell_type": "code",
   "execution_count": 22,
   "metadata": {},
   "outputs": [],
   "source": [
    "gmm = GaussianMixture(n_components=4).fit(df_hour_demand)"
   ]
  },
  {
   "cell_type": "code",
   "execution_count": 23,
   "metadata": {},
   "outputs": [],
   "source": [
    "labels2 = gmm.predict(df_hour_demand)"
   ]
  },
  {
   "cell_type": "code",
   "execution_count": 26,
   "metadata": {},
   "outputs": [
    {
     "data": {
      "image/png": "[encoded data removed]",
      "text/plain": [
       "<Figure size 432x288 with 1 Axes>"
      ]
     },
     "metadata": {
      "needs_background": "light"
     },
     "output_type": "display_data"
    }
   ],
   "source": [
    "label_colors = [\"#2AB0E9\", \"#2BAF74\", \"#D7665E\", \"#D2CA0D\", #blue, green, red, yellow\n",
    "                \"#CCCCCC\", \"#522A64\", \"#A3DB05\", \"#FC6514\"]\n",
    "\n",
    "colors = [label_colors[i] for i in labels2]\n",
    "plt.scatter(df_hour_demand[\"start_hour\"], df_hour_demand[\"trip_id\"], c=colors, alpha=0.5)\n",
    "plt.title(\"GMM (Chicago)\")\n",
    "plt.xlabel(\"Start Hour \")\n",
    "plt.ylabel(\"Demand\")\n",
    "\n",
    "plt.show()"
   ]
  },
  {
   "cell_type": "markdown",
   "metadata": {},
   "source": [
    "## Fare Amount and Payment Type"
   ]
  },
  {
   "cell_type": "code",
   "execution_count": 46,
   "metadata": {},
   "outputs": [],
   "source": [
    "df_fare_payment = df[[\"fare\",\"payment_type\"]]"
   ]
  },
  {
   "cell_type": "code",
   "execution_count": 47,
   "metadata": {},
   "outputs": [
    {
     "data": {
      "text/html": [
       "<div>\n",
       "<style scoped>\n",
       "    .dataframe tbody tr th:only-of-type {\n",
       "        vertical-align: middle;\n",
       "    }\n",
       "\n",
       "    .dataframe tbody tr th {\n",
       "        vertical-align: top;\n",
       "    }\n",
       "\n",
       "    .dataframe thead th {\n",
       "        text-align: right;\n",
       "    }\n",
       "</style>\n",
       "<table border=\"1\" class=\"dataframe\">\n",
       "  <thead>\n",
       "    <tr style=\"text-align: right;\">\n",
       "      <th></th>\n",
       "      <th>fare</th>\n",
       "      <th>payment_type</th>\n",
       "    </tr>\n",
       "  </thead>\n",
       "  <tbody>\n",
       "    <tr>\n",
       "      <th>573</th>\n",
       "      <td>3.45</td>\n",
       "      <td>Cash</td>\n",
       "    </tr>\n",
       "    <tr>\n",
       "      <th>574</th>\n",
       "      <td>15.85</td>\n",
       "      <td>Cash</td>\n",
       "    </tr>\n",
       "    <tr>\n",
       "      <th>575</th>\n",
       "      <td>6.65</td>\n",
       "      <td>Cash</td>\n",
       "    </tr>\n",
       "    <tr>\n",
       "      <th>576</th>\n",
       "      <td>12.85</td>\n",
       "      <td>Cash</td>\n",
       "    </tr>\n",
       "    <tr>\n",
       "      <th>577</th>\n",
       "      <td>5.45</td>\n",
       "      <td>Cash</td>\n",
       "    </tr>\n",
       "    <tr>\n",
       "      <th>...</th>\n",
       "      <td>...</td>\n",
       "      <td>...</td>\n",
       "    </tr>\n",
       "    <tr>\n",
       "      <th>6676082</th>\n",
       "      <td>24.45</td>\n",
       "      <td>Cash</td>\n",
       "    </tr>\n",
       "    <tr>\n",
       "      <th>6676083</th>\n",
       "      <td>16.25</td>\n",
       "      <td>Cash</td>\n",
       "    </tr>\n",
       "    <tr>\n",
       "      <th>6676084</th>\n",
       "      <td>8.05</td>\n",
       "      <td>Cash</td>\n",
       "    </tr>\n",
       "    <tr>\n",
       "      <th>6676085</th>\n",
       "      <td>8.05</td>\n",
       "      <td>Cash</td>\n",
       "    </tr>\n",
       "    <tr>\n",
       "      <th>6676086</th>\n",
       "      <td>11.45</td>\n",
       "      <td>Cash</td>\n",
       "    </tr>\n",
       "  </tbody>\n",
       "</table>\n",
       "<p>3762575 rows × 2 columns</p>\n",
       "</div>"
      ],
      "text/plain": [
       "          fare payment_type\n",
       "573       3.45         Cash\n",
       "574      15.85         Cash\n",
       "575       6.65         Cash\n",
       "576      12.85         Cash\n",
       "577       5.45         Cash\n",
       "...        ...          ...\n",
       "6676082  24.45         Cash\n",
       "6676083  16.25         Cash\n",
       "6676084   8.05         Cash\n",
       "6676085   8.05         Cash\n",
       "6676086  11.45         Cash\n",
       "\n",
       "[3762575 rows x 2 columns]"
      ]
     },
     "execution_count": 47,
     "metadata": {},
     "output_type": "execute_result"
    }
   ],
   "source": [
    "df_fare_payment"
   ]
  },
  {
   "cell_type": "code",
   "execution_count": 12,
   "metadata": {},
   "outputs": [
    {
     "data": {
      "text/plain": [
       "<matplotlib.collections.PathCollection at 0x111528f17c0>"
      ]
     },
     "execution_count": 12,
     "metadata": {},
     "output_type": "execute_result"
    },
    {
     "data": {
      "image/png": "[encoded data removed]",
      "text/plain": [
       "<Figure size 432x288 with 1 Axes>"
      ]
     },
     "metadata": {
      "needs_background": "light"
     },
     "output_type": "display_data"
    }
   ],
   "source": [
    "plt.scatter(x=df[\"fare\"],y=df[\"payment_type\"])"
   ]
  },
  {
   "cell_type": "code",
   "execution_count": 48,
   "metadata": {},
   "outputs": [
    {
     "name": "stderr",
     "output_type": "stream",
     "text": [
      "<ipython-input-48-604835c59312>:9: SettingWithCopyWarning: \n",
      "A value is trying to be set on a copy of a slice from a DataFrame.\n",
      "Try using .loc[row_indexer,col_indexer] = value instead\n",
      "\n",
      "See the caveats in the documentation: https://pandas.pydata.org/pandas-docs/stable/user_guide/indexing.html#returning-a-view-versus-a-copy\n",
      "  df_fare_payment[\"payment_type\"] = df_fare_payment[\"payment_type\"].map(payment_type)\n"
     ]
    }
   ],
   "source": [
    "payment_type = {\n",
    "  'Credit Card': 1,\n",
    "    'Cash':2, \n",
    "    'Dispute':3, \n",
    "    'No Charge':4,\n",
    "    'Unknown':5, \n",
    "    'Pcard':6\n",
    "}\n",
    "df_fare_payment[\"payment_type\"] = df_fare_payment[\"payment_type\"].map(payment_type)"
   ]
  },
  {
   "cell_type": "code",
   "execution_count": 49,
   "metadata": {},
   "outputs": [],
   "source": [
    "kmeans = KMeans(n_clusters=4, random_state=10).fit(df_fare_payment)\n"
   ]
  },
  {
   "cell_type": "code",
   "execution_count": 50,
   "metadata": {},
   "outputs": [],
   "source": [
    "labels = kmeans.predict(df_fare_payment)"
   ]
  },
  {
   "cell_type": "code",
   "execution_count": 41,
   "metadata": {},
   "outputs": [],
   "source": [
    "# df_fare_payment =pd.DataFrame(df_fare_payment)"
   ]
  },
  {
   "cell_type": "code",
   "execution_count": 53,
   "metadata": {},
   "outputs": [
    {
     "data": {
      "image/png": "[encoded data removed]",
      "text/plain": [
       "<Figure size 432x288 with 1 Axes>"
      ]
     },
     "metadata": {
      "needs_background": "light"
     },
     "output_type": "display_data"
    }
   ],
   "source": [
    "label_colors = [\"#2AB0E9\", \"#2BAF74\", \"#D7665E\", \"#D2CA0D\", #blue, green, red, yellow\n",
    "                \"#CCCCCC\", \"#522A64\", \"#A3DB05\", \"#FC6514\"]\n",
    "\n",
    "colors = [label_colors[i] for i in labels]\n",
    "plt.scatter(df_fare_payment[\"fare\"], df_fare_payment[\"payment_type\"], c=colors, alpha=0.5)\n",
    "plt.title(\"k-Means (Chicago)\")\n",
    "plt.xlabel(\"Fare \")\n",
    "plt.ylabel(\"Payment\")\n",
    "\n",
    "plt.show()"
   ]
  },
  {
   "cell_type": "code",
   "execution_count": 55,
   "metadata": {},
   "outputs": [],
   "source": [
    "# analysis -->\n",
    "# fare and payment types can be clustered in 4 clusters, the high fares are only paid with cash \n",
    "#--> We suspect that this is changing in the other years since 2013 is 8 years ago\n"
   ]
  }
 ],
 "metadata": {
  "kernelspec": {
   "display_name": "Python 3",
   "language": "python",
   "name": "python3"
  },
  "language_info": {
   "codemirror_mode": {
    "name": "ipython",
    "version": 3
   },
   "file_extension": ".py",
   "mimetype": "text/x-python",
   "name": "python",
   "nbconvert_exporter": "python",
   "pygments_lexer": "ipython3",
   "version": "3.8.8"
  }
 },
 "nbformat": 4,
 "nbformat_minor": 4
}
